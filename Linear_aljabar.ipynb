{
 "cells": [
  {
   "cell_type": "code",
   "execution_count": 56,
   "metadata": {},
   "outputs": [],
   "source": [
    "import numpy as np"
   ]
  },
  {
   "cell_type": "code",
   "execution_count": 57,
   "metadata": {},
   "outputs": [
    {
     "name": "stdout",
     "output_type": "stream",
     "text": [
      "[[25 10]]\n",
      "[[12 50]]\n"
     ]
    }
   ],
   "source": [
    "a = np.array([[25, 10]])\n",
    "b = np.array([[12, 50]])\n",
    "\n",
    "print(a)\n",
    "print(b)\n"
   ]
  },
  {
   "cell_type": "code",
   "execution_count": 58,
   "metadata": {},
   "outputs": [
    {
     "data": {
      "text/plain": [
       "array([[37],\n",
       "       [60]])"
      ]
     },
     "execution_count": 58,
     "metadata": {},
     "output_type": "execute_result"
    }
   ],
   "source": [
    "(a+b).T # T = transpose"
   ]
  },
  {
   "cell_type": "code",
   "execution_count": 59,
   "metadata": {},
   "outputs": [
    {
     "data": {
      "text/plain": [
       "array([[63],\n",
       "       [36]])"
      ]
     },
     "execution_count": 59,
     "metadata": {},
     "output_type": "execute_result"
    }
   ],
   "source": [
    "x = 3\n",
    "a = np.array([[21, 12]])\n",
    "\n",
    "(a*x).T"
   ]
  },
  {
   "cell_type": "code",
   "execution_count": 60,
   "metadata": {},
   "outputs": [
    {
     "data": {
      "text/plain": [
       "array([[63, 36]])"
      ]
     },
     "execution_count": 60,
     "metadata": {},
     "output_type": "execute_result"
    }
   ],
   "source": [
    "np.dot(a, x) #"
   ]
  },
  {
   "cell_type": "code",
   "execution_count": 61,
   "metadata": {},
   "outputs": [
    {
     "name": "stdout",
     "output_type": "stream",
     "text": [
      "perhitungan manual\n",
      "32\n",
      "==========\n",
      "perhitungan dengan fungsi dot di numpy\n",
      "32\n"
     ]
    }
   ],
   "source": [
    "# perkalian 2 vektor 1D\n",
    "a = np.array([2, 3, 3])\n",
    "b = np.array([4, 5,3])\n",
    "hasil = np.dot(a, b)\n",
    "print(\"perhitungan manual\")\n",
    "print(2*4 + 3*5 + 3*3)\n",
    "print(10*\"=\")\n",
    "print(\"perhitungan dengan fungsi dot di numpy\")\n",
    "print(hasil)"
   ]
  },
  {
   "cell_type": "code",
   "execution_count": 62,
   "metadata": {},
   "outputs": [
    {
     "name": "stdout",
     "output_type": "stream",
     "text": [
      "[190 350]\n"
     ]
    }
   ],
   "source": [
    "# perkalian vektor 1D dengan matriks 2D\n",
    "a = np.array([10, 20])\n",
    "b = np.array([[15, 29], [2, 3]])\n",
    "hasil = np.dot(a, b)\n",
    "print(hasil)"
   ]
  },
  {
   "cell_type": "code",
   "execution_count": 63,
   "metadata": {},
   "outputs": [
    {
     "name": "stdout",
     "output_type": "stream",
     "text": [
      "[[188 134]\n",
      " [ 56  76]] = x and y\n",
      "\n"
     ]
    }
   ],
   "source": [
    "x = np.array([[10, 21], [12, 4]])\n",
    "y = np.array([[2, 5], [8, 4]])\n",
    "hasil = np.dot(x, y)\n",
    "print(hasil, end= \" = x and y\\n\\n\")"
   ]
  },
  {
   "cell_type": "code",
   "execution_count": 64,
   "metadata": {},
   "outputs": [
    {
     "name": "stdout",
     "output_type": "stream",
     "text": [
      "[[20 88]\n",
      " [76 12]\n",
      " [12  4]] = x \n",
      "\n",
      "[[2 8]\n",
      " [3 2]\n",
      " [4 8]] = y \n",
      "\n",
      "[[22 96]\n",
      " [79 14]\n",
      " [16 12]]\n",
      "\n",
      "[[18 80]\n",
      " [73 10]\n",
      " [ 8 -4]]\n"
     ]
    }
   ],
   "source": [
    "# penjumlahan matriks\n",
    "x = np.array([[20, 88], [76, 12], [12, 4]])\n",
    "y = np.array([[2, 8], [3, 2], [4, 8]])\n",
    "\n",
    "print(x, end= \" = x \\n\\n\")\n",
    "print(y, end= \" = y \\n\\n\")\n",
    "\n",
    "print(x + y)\n",
    "print()\n",
    "print(x - y)"
   ]
  },
  {
   "cell_type": "code",
   "execution_count": 65,
   "metadata": {},
   "outputs": [
    {
     "name": "stdout",
     "output_type": "stream",
     "text": [
      "[[20  2]\n",
      " [54  4]\n",
      " [12 92]] = x\n",
      "\n",
      "[[2 8]\n",
      " [2 5]\n",
      " [4 8]] = y\n",
      "\n"
     ]
    },
    {
     "data": {
      "text/plain": [
       "array([[18, -6],\n",
       "       [52, -1],\n",
       "       [ 8, 84]])"
      ]
     },
     "execution_count": 65,
     "metadata": {},
     "output_type": "execute_result"
    }
   ],
   "source": [
    "x = np.array([[20, 2], [54, 4], [12, 92]])\n",
    "y = np.array([[2, 8], [2, 5], [4, 8]])\n",
    "z = 3\n",
    "w = 2\n",
    "print(x, end= \" = x\\n\\n\")\n",
    "print(y, end= \" = y\\n\\n\")\n",
    "\n",
    "x - y\n"
   ]
  },
  {
   "cell_type": "code",
   "execution_count": 66,
   "metadata": {},
   "outputs": [
    {
     "data": {
      "text/plain": [
       "array([[ 60,   6],\n",
       "       [162,  12],\n",
       "       [ 36, 276]])"
      ]
     },
     "execution_count": 66,
     "metadata": {},
     "output_type": "execute_result"
    }
   ],
   "source": [
    "x * z"
   ]
  },
  {
   "cell_type": "code",
   "execution_count": 71,
   "metadata": {},
   "outputs": [
    {
     "data": {
      "text/plain": [
       "array([[10.,  1.],\n",
       "       [27.,  2.],\n",
       "       [ 6., 46.]])"
      ]
     },
     "execution_count": 71,
     "metadata": {},
     "output_type": "execute_result"
    }
   ],
   "source": [
    "x /w "
   ]
  },
  {
   "cell_type": "code",
   "execution_count": 72,
   "metadata": {},
   "outputs": [
    {
     "name": "stdout",
     "output_type": "stream",
     "text": [
      "[[1. 0. 0. 0.]\n",
      " [0. 1. 0. 0.]\n",
      " [0. 0. 1. 0.]\n",
      " [0. 0. 0. 1.]] = a\n",
      "\n"
     ]
    }
   ],
   "source": [
    "a = np.eye(4) # parameter ini menunjukkan ukuran dimensi\n",
    "print(a, end= \" = a\\n\\n\")"
   ]
  },
  {
   "cell_type": "code",
   "execution_count": 74,
   "metadata": {},
   "outputs": [
    {
     "name": "stdout",
     "output_type": "stream",
     "text": [
      "[[1. 0. 0. 0.]\n",
      " [0. 1. 0. 0.]] = b\n",
      "\n"
     ]
    }
   ],
   "source": [
    "b = np.eye(2, 4)\n",
    "print(b, end= \" = b\\n\\n\")"
   ]
  },
  {
   "cell_type": "code",
   "execution_count": 80,
   "metadata": {},
   "outputs": [
    {
     "name": "stdout",
     "output_type": "stream",
     "text": [
      "[[1. 0. 0. 0. 0.]\n",
      " [0. 1. 0. 0. 0.]] = c\n",
      "\n"
     ]
    }
   ],
   "source": [
    "c = np.eye(2, 5 , order=\"F\")\n",
    "print(c, end= \" = c\\n\\n\")"
   ]
  },
  {
   "cell_type": "code",
   "execution_count": 84,
   "metadata": {},
   "outputs": [
    {
     "name": "stdout",
     "output_type": "stream",
     "text": [
      "[[1 2]\n",
      " [3 4]] = x\n",
      "\n",
      "[[-2.   1. ]\n",
      " [ 1.5 -0.5]] = x_invers"
     ]
    }
   ],
   "source": [
    "x = np.array([[1, 2], [3, 4]])\n",
    "x_invers = np.linalg.inv(x) # inv / invers adalah kebalikan dari sesuatu/lawan nya\n",
    "print(x, end= \" = x\\n\\n\")\n",
    "print(x_invers, end= \" = x_invers\")"
   ]
  },
  {
   "cell_type": "code",
   "execution_count": 86,
   "metadata": {},
   "outputs": [
    {
     "name": "stdout",
     "output_type": "stream",
     "text": [
      "[[1 2]\n",
      " [3 4]] = x\n",
      "\n",
      "-2.0000000000000004 = x_det"
     ]
    }
   ],
   "source": [
    "x_det = np.linalg.det(x)\n",
    "print(x, end= \" = x\\n\\n\")\n",
    "print(x_det, end= \" = x_det\")"
   ]
  },
  {
   "cell_type": "code",
   "execution_count": 92,
   "metadata": {},
   "outputs": [
    {
     "name": "stdout",
     "output_type": "stream",
     "text": [
      "[-2.  6.]\n"
     ]
    }
   ],
   "source": [
    "a = np.array([ [[2, 3], [4, 5]], \n",
    "               [[4, 7], [2, 5]] \n",
    "              ])\n",
    "print(np.linalg.det(a))\n"
   ]
  },
  {
   "cell_type": "code",
   "execution_count": null,
   "metadata": {},
   "outputs": [],
   "source": []
  }
 ],
 "metadata": {
  "kernelspec": {
   "display_name": "Python 3",
   "language": "python",
   "name": "python3"
  },
  "language_info": {
   "codemirror_mode": {
    "name": "ipython",
    "version": 3
   },
   "file_extension": ".py",
   "mimetype": "text/x-python",
   "name": "python",
   "nbconvert_exporter": "python",
   "pygments_lexer": "ipython3",
   "version": "3.11.9"
  }
 },
 "nbformat": 4,
 "nbformat_minor": 2
}
